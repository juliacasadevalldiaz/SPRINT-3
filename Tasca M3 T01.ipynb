{
 "cells": [
  {
   "cell_type": "markdown",
   "id": "e4faff98",
   "metadata": {},
   "source": [
    "# Tasca M3 T01\n",
    "### Descripció\n",
    "\n",
    "**En aquesta tasca treballaràs amb la llibreria numpy i amb les dades de la llibreria sklearn.datasets. D'aquesta llibreria descarrega el conjunt de dades denominat Iris.**\n",
    "\n",
    "**Tingues en compte que Iris està conformada per diversos conjunts de dades, dins d'ells, el array denominat: “data” i “target”. També està composta per llistes, per exemple: “feature_*names” i “target_*names”.**"
   ]
  },
  {
   "cell_type": "markdown",
   "id": "9113e92b",
   "metadata": {},
   "source": [
    "## - Exercici 1\n",
    "**Carregar “data” i \"target\" del conjunt de dades, i visualitza els 10 primers registres de cadascun.**"
   ]
  },
  {
   "cell_type": "code",
   "execution_count": 108,
   "id": "9b6e3d01",
   "metadata": {},
   "outputs": [
    {
     "name": "stdout",
     "output_type": "stream",
     "text": [
      "Les primeres 10 dades de data són:\n",
      "[[5.1 3.5 1.4 0.2]\n",
      " [4.9 3.  1.4 0.2]\n",
      " [4.7 3.2 1.3 0.2]\n",
      " [4.6 3.1 1.5 0.2]\n",
      " [5.  3.6 1.4 0.2]\n",
      " [5.4 3.9 1.7 0.4]\n",
      " [4.6 3.4 1.4 0.3]\n",
      " [5.  3.4 1.5 0.2]\n",
      " [4.4 2.9 1.4 0.2]\n",
      " [4.9 3.1 1.5 0.1]]\n",
      "\n",
      "Les primeres 10 dades de target són: [0 0 0 0 0 0 0 0 0 0]\n"
     ]
    }
   ],
   "source": [
    "import numpy as np\n",
    "from sklearn.datasets import load_iris\n",
    "\n",
    "iris = load_iris()\n",
    "data =iris.data\n",
    "target = iris.target\n",
    "features = iris.feature_names\n",
    "tnames = iris.target_names\n",
    "\n",
    "#Visualitzar 10 primers registres de data i target:\n",
    "print('Les primeres 10 dades de data són:')\n",
    "print(data[:10])\n",
    "print()\n",
    "print('Les primeres 10 dades de target són:', target[:10])\n"
   ]
  },
  {
   "cell_type": "markdown",
   "id": "c7602530",
   "metadata": {},
   "source": [
    "## - Exercici 2\n",
    "**Concatena “data” i “target” en un nou array. Mostra els 5 primers registres.**"
   ]
  },
  {
   "cell_type": "code",
   "execution_count": 107,
   "id": "8298989a",
   "metadata": {},
   "outputs": [
    {
     "name": "stdout",
     "output_type": "stream",
     "text": [
      "La dimensió de data és: 2\n",
      "La dimensió de target és: 1\n",
      "\n",
      "Els 5 primers registres són:\n",
      "[[5.1 3.5 1.4 0.2 0. ]\n",
      " [4.9 3.  1.4 0.2 0. ]\n",
      " [4.7 3.2 1.3 0.2 0. ]\n",
      " [4.6 3.1 1.5 0.2 0. ]\n",
      " [5.  3.6 1.4 0.2 0. ]]\n"
     ]
    }
   ],
   "source": [
    "#no podem utilitzar np.concatenate perque son matrius de diferent dimensió:\n",
    "print('La dimensió de data és:', data.ndim )\n",
    "print('La dimensió de target és:', target.ndim)\n",
    "print()\n",
    "array = np.column_stack((data, target))\n",
    "print(\"Els 5 primers registres són:\")\n",
    "print(array[:5])\n",
    "\n"
   ]
  },
  {
   "cell_type": "markdown",
   "id": "27eb097b",
   "metadata": {},
   "source": [
    "## - Exercici 3\n",
    "**Calcula la mitjana i desviació estàndard de la longitud del sèpal (\"sepal length (cm)\") i la longitud del pètal (\"petal length (cm)\"). Mostra els resultats amb dos decimals.**"
   ]
  },
  {
   "cell_type": "code",
   "execution_count": 106,
   "id": "27d7d4bd",
   "metadata": {},
   "outputs": [
    {
     "name": "stdout",
     "output_type": "stream",
     "text": [
      "La mitjana de la longitud del sèpal és 0.83\n",
      "La desviació estàndard de la longitud del sèpal és 0.83\n",
      "\n",
      "La mitjana de la longitud del sèpal és 1.76\n",
      "La desviació estàndard de la longitud del sèpal és 1.76\n"
     ]
    }
   ],
   "source": [
    "mitjana_sepal = np.mean(array[:,0])\n",
    "desviacio_sepal = np.std(array[:,0])\n",
    "mitjana_petal = np.mean(array[:,2])\n",
    "desviacio_petal = np.std(array[:,2])\n",
    "print(f'La mitjana de la longitud del sèpal és {desviacio_sepal:.2f}')\n",
    "print(f'La desviació estàndard de la longitud del sèpal és {desviacio_sepal:.2f}')\n",
    "print()\n",
    "print(f'La mitjana de la longitud del sèpal és {desviacio_petal:.2f}')\n",
    "print(f'La desviació estàndard de la longitud del sèpal és {desviacio_petal:.2f}')\n",
    "\n",
    "\n",
    "\n"
   ]
  },
  {
   "cell_type": "markdown",
   "id": "9c5fa54d",
   "metadata": {},
   "source": [
    "#### - Exercici 4\n",
    "**Selecciona una mostra aleatòria de 20 registres del conjunt que has obtingut en l'exercici anterior.**"
   ]
  },
  {
   "cell_type": "code",
   "execution_count": 7,
   "id": "a186e48e",
   "metadata": {},
   "outputs": [
    {
     "name": "stdout",
     "output_type": "stream",
     "text": [
      "[[7.  3.2 4.7 1.4 1. ]\n",
      " [6.1 2.6 5.6 1.4 2. ]\n",
      " [5.1 3.5 1.4 0.2 0. ]\n",
      " [5.2 4.1 1.5 0.1 0. ]\n",
      " [5.5 2.3 4.  1.3 1. ]\n",
      " [4.6 3.6 1.  0.2 0. ]\n",
      " [6.8 3.  5.5 2.1 2. ]\n",
      " [5.6 2.8 4.9 2.  2. ]\n",
      " [5.4 3.7 1.5 0.2 0. ]\n",
      " [5.  3.4 1.6 0.4 0. ]\n",
      " [7.2 3.  5.8 1.6 2. ]\n",
      " [5.6 2.5 3.9 1.1 1. ]\n",
      " [6.5 3.  5.5 1.8 2. ]\n",
      " [4.8 3.  1.4 0.1 0. ]\n",
      " [6.7 3.1 4.7 1.5 1. ]\n",
      " [5.5 3.5 1.3 0.2 0. ]\n",
      " [5.  3.5 1.6 0.6 0. ]\n",
      " [5.4 3.9 1.3 0.4 0. ]\n",
      " [6.3 2.8 5.1 1.5 2. ]\n",
      " [5.6 3.  4.5 1.5 1. ]]\n"
     ]
    }
   ],
   "source": [
    "#com que es de dues dimensions no puc utilitzar --> np.random.choice(array, size=20, replace=False) \n",
    "#barrejo les files de la matriu i selecciono les 5 primeres:\n",
    "\n",
    "np.random.shuffle(array)\n",
    "mostra_random = array[:20]\n",
    "print(mostra_random)\n",
    "\n"
   ]
  },
  {
   "cell_type": "markdown",
   "id": "e0959eef",
   "metadata": {},
   "source": [
    "## - Exercici 5\n",
    "**Crea una matriu que mostri:**\n",
    "\n",
    "- **La mitjana de cada característica per espècie.**\n",
    "\n",
    "- **La desviació estàndard de cada característica per espècie.**"
   ]
  },
  {
   "cell_type": "code",
   "execution_count": 8,
   "id": "9d82c9d0",
   "metadata": {},
   "outputs": [
    {
     "name": "stdout",
     "output_type": "stream",
     "text": [
      "Els resultats per l'especie setosa son:\n",
      "-sepal length (cm):\n",
      "  - Mitjana: 5.01\n",
      "  - Desviació_Estàndar: 0.35\n",
      "-sepal width (cm):\n",
      "  - Mitjana: 3.43\n",
      "  - Desviació_Estàndar: 0.38\n",
      "-petal length (cm):\n",
      "  - Mitjana: 1.46\n",
      "  - Desviació_Estàndar: 0.17\n",
      "-petal width (cm):\n",
      "  - Mitjana: 0.25\n",
      "  - Desviació_Estàndar: 0.10\n",
      "\n",
      "Els resultats per l'especie versicolor son:\n",
      "-sepal length (cm):\n",
      "  - Mitjana: 5.94\n",
      "  - Desviació_Estàndar: 0.51\n",
      "-sepal width (cm):\n",
      "  - Mitjana: 2.77\n",
      "  - Desviació_Estàndar: 0.31\n",
      "-petal length (cm):\n",
      "  - Mitjana: 4.26\n",
      "  - Desviació_Estàndar: 0.47\n",
      "-petal width (cm):\n",
      "  - Mitjana: 1.33\n",
      "  - Desviació_Estàndar: 0.20\n",
      "\n",
      "Els resultats per l'especie virginica son:\n",
      "-sepal length (cm):\n",
      "  - Mitjana: 6.59\n",
      "  - Desviació_Estàndar: 0.63\n",
      "-sepal width (cm):\n",
      "  - Mitjana: 2.97\n",
      "  - Desviació_Estàndar: 0.32\n",
      "-petal length (cm):\n",
      "  - Mitjana: 5.55\n",
      "  - Desviació_Estàndar: 0.55\n",
      "-petal width (cm):\n",
      "  - Mitjana: 2.03\n",
      "  - Desviació_Estàndar: 0.27\n",
      "\n"
     ]
    }
   ],
   "source": [
    "nom_especies= iris.target_names\n",
    "#creo un diccionari per guardar els resultats\n",
    "resultats = {}\n",
    "for i, especie in enumerate(nom_especies):\n",
    "    dades_sp = array[array[:,-1] == i][:, :-1]\n",
    "#calculs:\n",
    "    mitjana = np.mean(dades_sp, axis=0)\n",
    "    std = np.std(dades_sp, axis=0)\n",
    "\n",
    "#poso els resultats al diccionari:\n",
    "    resultats[especie] = {'Mitjana': mitjana, 'Desviació_Estàndard': std}\n",
    "\n",
    "#mostro els resultats\n",
    "for especie, valors in resultats.items():\n",
    "    print(f\"Els resultats per l'especie {especie} son:\")\n",
    "    for i, feature in enumerate(features):\n",
    "        print(f\"-{feature}:\")\n",
    "        print(f\"  - Mitjana: {valors['Mitjana'][i]:.2f}\")\n",
    "        print(f\"  - Desviació_Estàndar: {valors['Desviació_Estàndard'][i]:.2f}\")\n",
    "    print()"
   ]
  },
  {
   "cell_type": "markdown",
   "id": "eb2de23b",
   "metadata": {},
   "source": [
    "## - Exercici 6\n",
    "- **Calcula la quantitat de mostres per espècie.**"
   ]
  },
  {
   "cell_type": "code",
   "execution_count": 34,
   "id": "074b634e",
   "metadata": {},
   "outputs": [
    {
     "name": "stdout",
     "output_type": "stream",
     "text": [
      "El nombre de mostres per l'espècie setosa és: 50\n",
      "El nombre de mostres per l'espècie versicolor és: 50\n",
      "El nombre de mostres per l'espècie virginica és: 50\n"
     ]
    }
   ],
   "source": [
    "quantitat_mostres_spp = np.bincount(target)\n",
    "for i, quantitat in enumerate(quantitat_mostres_spp):\n",
    "    print(f\"El nombre de mostres per l'espècie {tnames[i]} és: {quantitat}\")"
   ]
  },
  {
   "cell_type": "markdown",
   "id": "f8bf060f",
   "metadata": {},
   "source": [
    "- **Troba l'espècie amb el valor màxim mitjana de la variable \"sepal length (cm)\"**"
   ]
  },
  {
   "cell_type": "code",
   "execution_count": 36,
   "id": "33684c71",
   "metadata": {},
   "outputs": [
    {
     "name": "stdout",
     "output_type": "stream",
     "text": [
      "setosa\n",
      "['sepal length (cm)', 'sepal width (cm)', 'petal length (cm)', 'petal width (cm)']\n",
      "{'Mitjana': array([5.006, 3.428, 1.462, 0.246]), 'Desviació_Estàndard': array([0.34894699, 0.37525458, 0.17191859, 0.10432641])}\n",
      "versicolor\n",
      "['sepal length (cm)', 'sepal width (cm)', 'petal length (cm)', 'petal width (cm)']\n",
      "{'Mitjana': array([5.936, 2.77 , 4.26 , 1.326]), 'Desviació_Estàndard': array([0.51098337, 0.31064449, 0.46518813, 0.19576517])}\n",
      "virginica\n",
      "['sepal length (cm)', 'sepal width (cm)', 'petal length (cm)', 'petal width (cm)']\n",
      "{'Mitjana': array([6.588, 2.974, 5.552, 2.026]), 'Desviació_Estàndard': array([0.62948868, 0.31925538, 0.54634787, 0.27188968])}\n"
     ]
    }
   ],
   "source": [
    "#AQUEST CODI M'AJUDA A VISUALITZAR COM ESTA ESTRUCTURADA LA DATA\n",
    "for especie, valors in resultats.items():\n",
    "   print(especie)\n",
    "   print(features)\n",
    "   print(valors)\n"
   ]
  },
  {
   "cell_type": "code",
   "execution_count": 105,
   "id": "0c1422c0",
   "metadata": {},
   "outputs": [
    {
     "name": "stdout",
     "output_type": "stream",
     "text": [
      "Per l'espècie setosa i la variable sepal length (cm):\n",
      "  - Mitjana: 5.01 cm\n",
      "Per l'espècie versicolor i la variable sepal length (cm):\n",
      "  - Mitjana: 5.94 cm\n",
      "Per l'espècie virginica i la variable sepal length (cm):\n",
      "  - Mitjana: 6.59 cm\n",
      "\n",
      "L'espècie amb el valor màxim de mitjana de la variable sepal length (cm) és l'espècie: virginica\n"
     ]
    }
   ],
   "source": [
    "# Per assegurar-nos de que qualsevol valor de mitjana de la sepal length sigui major al principi de la iteració, el valor és -1.\n",
    "max_mitjana_sepal_length = -1  \n",
    "#Aixo s'utilitza per emmagatzemar el nom de la especie que tingui la mitja més alta:\n",
    "especie_max_mitjana_sepal_length = \"\"\n",
    "\n",
    "for especie, valors in resultats.items():\n",
    "    #valors['Mitjana'][0] perque volem de la llista 'Mitjana' el primer valor que correspon a la sepal_length\n",
    "    mitjana_sepal_length = valors['Mitjana'][0]\n",
    "    print(f\"Per l'espècie {especie} i la variable {features[0]}:\")\n",
    "    print(f\"  - Mitjana: {mitjana_sepal_length:.2f} cm\")\n",
    "    \n",
    "    if mitjana_sepal_length > max_mitjana_sepal_length:\n",
    "        #max_mitjana_sepal_lenght guardara la mitjana més alta de la loop\n",
    "        max_mitjana_sepal_length = mitjana_sepal_length\n",
    "        #aqui actualitzem el especie_max_mitjana_sepal_length amb el nom de l'especie amb la mitjana més alta que ha complert la condició anterior\n",
    "        especie_max_mitjana_sepal_length = especie\n",
    "\n",
    "print(f\"\\nL'espècie amb el valor màxim de mitjana de la variable {features[0]} és l'espècie: {especie_max_mitjana_sepal_length}\")\n"
   ]
  },
  {
   "cell_type": "markdown",
   "id": "189cc5a8",
   "metadata": {},
   "source": [
    "## - Exercici 7\n",
    "- **Calcula la matriu de correlació entre les variables.**"
   ]
  },
  {
   "cell_type": "code",
   "execution_count": 50,
   "id": "26da635a",
   "metadata": {},
   "outputs": [
    {
     "name": "stdout",
     "output_type": "stream",
     "text": [
      "[[ 1.         -0.11756978  0.87175378  0.81794113]\n",
      " [-0.11756978  1.         -0.4284401  -0.36612593]\n",
      " [ 0.87175378 -0.4284401   1.          0.96286543]\n",
      " [ 0.81794113 -0.36612593  0.96286543  1.        ]]\n"
     ]
    }
   ],
   "source": [
    "matriu_correlacio = np.corrcoef(data, rowvar=False)\n",
    "#rowvar=False es per indicar que cada columna representa una variable i cada fila és una observació .\n",
    "print(matriu_correlacio)"
   ]
  },
  {
   "cell_type": "markdown",
   "id": "e8d6f749",
   "metadata": {},
   "source": [
    "- **Filtra els valors majors a la mitjana de la longitud dels pètals i mostra-ho.**"
   ]
  },
  {
   "cell_type": "code",
   "execution_count": 102,
   "id": "20f9e324",
   "metadata": {},
   "outputs": [
    {
     "name": "stdout",
     "output_type": "stream",
     "text": [
      "La mitjana de la longitud del petal és 3.8\n",
      "\n",
      "Els valors majors a la mitjana de la longitud dels petals són:\n",
      "[[7.  3.2 4.7 1.4]\n",
      " [6.4 3.2 4.5 1.5]\n",
      " [6.9 3.1 4.9 1.5]\n",
      " [5.5 2.3 4.  1.3]\n",
      " [6.5 2.8 4.6 1.5]\n",
      " [5.7 2.8 4.5 1.3]\n",
      " [6.3 3.3 4.7 1.6]\n",
      " [6.6 2.9 4.6 1.3]\n",
      " [5.2 2.7 3.9 1.4]\n",
      " [5.9 3.  4.2 1.5]\n",
      " [6.  2.2 4.  1. ]\n",
      " [6.1 2.9 4.7 1.4]\n",
      " [6.7 3.1 4.4 1.4]\n",
      " [5.6 3.  4.5 1.5]\n",
      " [5.8 2.7 4.1 1. ]\n",
      " [6.2 2.2 4.5 1.5]\n",
      " [5.6 2.5 3.9 1.1]\n",
      " [5.9 3.2 4.8 1.8]\n",
      " [6.1 2.8 4.  1.3]\n",
      " [6.3 2.5 4.9 1.5]\n",
      " [6.1 2.8 4.7 1.2]\n",
      " [6.4 2.9 4.3 1.3]\n",
      " [6.6 3.  4.4 1.4]\n",
      " [6.8 2.8 4.8 1.4]\n",
      " [6.7 3.  5.  1.7]\n",
      " [6.  2.9 4.5 1.5]\n",
      " [5.5 2.4 3.8 1.1]\n",
      " [5.8 2.7 3.9 1.2]\n",
      " [6.  2.7 5.1 1.6]\n",
      " [5.4 3.  4.5 1.5]\n",
      " [6.  3.4 4.5 1.6]\n",
      " [6.7 3.1 4.7 1.5]\n",
      " [6.3 2.3 4.4 1.3]\n",
      " [5.6 3.  4.1 1.3]\n",
      " [5.5 2.5 4.  1.3]\n",
      " [5.5 2.6 4.4 1.2]\n",
      " [6.1 3.  4.6 1.4]\n",
      " [5.8 2.6 4.  1.2]\n",
      " [5.6 2.7 4.2 1.3]\n",
      " [5.7 3.  4.2 1.2]\n",
      " [5.7 2.9 4.2 1.3]\n",
      " [6.2 2.9 4.3 1.3]\n",
      " [5.7 2.8 4.1 1.3]\n",
      " [6.3 3.3 6.  2.5]\n",
      " [5.8 2.7 5.1 1.9]\n",
      " [7.1 3.  5.9 2.1]\n",
      " [6.3 2.9 5.6 1.8]\n",
      " [6.5 3.  5.8 2.2]\n",
      " [7.6 3.  6.6 2.1]\n",
      " [4.9 2.5 4.5 1.7]\n",
      " [7.3 2.9 6.3 1.8]\n",
      " [6.7 2.5 5.8 1.8]\n",
      " [7.2 3.6 6.1 2.5]\n",
      " [6.5 3.2 5.1 2. ]\n",
      " [6.4 2.7 5.3 1.9]\n",
      " [6.8 3.  5.5 2.1]\n",
      " [5.7 2.5 5.  2. ]\n",
      " [5.8 2.8 5.1 2.4]\n",
      " [6.4 3.2 5.3 2.3]\n",
      " [6.5 3.  5.5 1.8]\n",
      " [7.7 3.8 6.7 2.2]\n",
      " [7.7 2.6 6.9 2.3]\n",
      " [6.  2.2 5.  1.5]\n",
      " [6.9 3.2 5.7 2.3]\n",
      " [5.6 2.8 4.9 2. ]\n",
      " [7.7 2.8 6.7 2. ]\n",
      " [6.3 2.7 4.9 1.8]\n",
      " [6.7 3.3 5.7 2.1]\n",
      " [7.2 3.2 6.  1.8]\n",
      " [6.2 2.8 4.8 1.8]\n",
      " [6.1 3.  4.9 1.8]\n",
      " [6.4 2.8 5.6 2.1]\n",
      " [7.2 3.  5.8 1.6]\n",
      " [7.4 2.8 6.1 1.9]\n",
      " [7.9 3.8 6.4 2. ]\n",
      " [6.4 2.8 5.6 2.2]\n",
      " [6.3 2.8 5.1 1.5]\n",
      " [6.1 2.6 5.6 1.4]\n",
      " [7.7 3.  6.1 2.3]\n",
      " [6.3 3.4 5.6 2.4]\n",
      " [6.4 3.1 5.5 1.8]\n",
      " [6.  3.  4.8 1.8]\n",
      " [6.9 3.1 5.4 2.1]\n",
      " [6.7 3.1 5.6 2.4]\n",
      " [6.9 3.1 5.1 2.3]\n",
      " [5.8 2.7 5.1 1.9]\n",
      " [6.8 3.2 5.9 2.3]\n",
      " [6.7 3.3 5.7 2.5]\n",
      " [6.7 3.  5.2 2.3]\n",
      " [6.3 2.5 5.  1.9]\n",
      " [6.5 3.  5.2 2. ]\n",
      " [6.2 3.4 5.4 2.3]\n",
      " [5.9 3.  5.1 1.8]]\n"
     ]
    }
   ],
   "source": [
    "#calculo la mitjana: selecionant per totes les files, el valor que hi ha a la tercera columan que correspon a la longitud dels pètals\n",
    "mitjana_petal_length = np.mean(data[:,2])\n",
    "print(f\"La mitjana de la longitud del petal és {mitjana_petal_length:.1f}\")\n",
    "print()\n",
    "#aqui creo una array en la qual els elements que siguin True compliran la condició proposada i si són False no. Aleshores agafem de la array 'data' només els valors que compleixin la condició true i es pasa a dir valors majors\n",
    "valors_majors = data[data[:, 2] > mitjana_petal_length]\n",
    "\n",
    "print(f'Els valors majors a la mitjana de la longitud dels petals són:')\n",
    "print(valors_majors)"
   ]
  },
  {
   "cell_type": "markdown",
   "id": "0b2b3444",
   "metadata": {},
   "source": [
    "- **Troba la mostra amb els pètals més grans.**"
   ]
  },
  {
   "cell_type": "code",
   "execution_count": 82,
   "id": "061c7fe4",
   "metadata": {},
   "outputs": [
    {
     "name": "stdout",
     "output_type": "stream",
     "text": [
      "La mostra que té l'àrea de petal més gran és: [7.7 2.6 6.9 2.3]\n"
     ]
    }
   ],
   "source": [
    "#he de trobar l'especie que tingui l'area de pètal més gran es a dir 'petal length (cm)' x 'petal width (cm)'\n",
    "area_petal = data[:,2]*data[:,3]\n",
    "#per obtenir l'index de la mostra utilitzo np.argmax en ves de max() que em donaria el valor maxim d'area pero no l'index.\n",
    "index_max_petal = np.argmax(area_petal)\n",
    "mostra_max_petal = data[index_max_petal]\n",
    "print(f\"La mostra que té l'àrea de petal més gran és:\", (mostra_max_petal))\n"
   ]
  },
  {
   "cell_type": "markdown",
   "id": "6a661092",
   "metadata": {},
   "source": [
    "## - Exercici 8\n",
    "- **Troba l'espècie amb la diferència més gran entre la longitud mitjana de sèpals i pètals.**"
   ]
  },
  {
   "cell_type": "code",
   "execution_count": 100,
   "id": "8eecf0b6",
   "metadata": {},
   "outputs": [
    {
     "name": "stdout",
     "output_type": "stream",
     "text": [
      "La setosa és l'espècie amb la diferència més gran entre la longitud mitjana de sèpals i pètals\n",
      "La mostra és la següent: [5.1 3.5 1.4 0.2] \n"
     ]
    }
   ],
   "source": [
    "#primer calculo la longitud mitjana dels sèpals i pètals\n",
    "mitjana_sepal = np.mean(data[:, 0])  \n",
    "mitjana_petal = np.mean(data[:, 2]) \n",
    "#calculo la diferencia entre els dos valors:\n",
    "diferencia = mitjana_sepal - mitjana_petal\n",
    "#amb la funcio np.argmax busco l'index que tingui la diferencia més gran, igual com he fet a l'exercici 7 pero de forma mes reduida:\n",
    "especie_max_dif = tnames[np.argmax(diferencia)]\n",
    "\n",
    "#per veure la mostra\n",
    "mostra_max_dif = data[np.argmax(diferencia)]\n",
    "\n",
    "print(f\"La {especie_max_dif} és l'espècie amb la diferència més gran entre la longitud mitjana de sèpals i pètals\")\n",
    "print(f\"La mostra és la següent: {mostra_max_dif} \")\n"
   ]
  }
 ],
 "metadata": {
  "kernelspec": {
   "display_name": "Python 3 (ipykernel)",
   "language": "python",
   "name": "python3"
  },
  "language_info": {
   "codemirror_mode": {
    "name": "ipython",
    "version": 3
   },
   "file_extension": ".py",
   "mimetype": "text/x-python",
   "name": "python",
   "nbconvert_exporter": "python",
   "pygments_lexer": "ipython3",
   "version": "3.11.4"
  }
 },
 "nbformat": 4,
 "nbformat_minor": 5
}
